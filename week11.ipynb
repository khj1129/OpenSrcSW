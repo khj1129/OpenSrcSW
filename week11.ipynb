{
 "cells": [
  {
   "cell_type": "code",
   "execution_count": 1,
   "id": "c3605794",
   "metadata": {},
   "outputs": [
    {
     "name": "stdout",
     "output_type": "stream",
     "text": [
      "-finput text : hello opensrc\n"
     ]
    },
    {
     "data": {
      "text/plain": [
       "'C:\\\\Users\\\\Chamo\\\\AppData\\\\Roaming\\\\jupyter\\\\runtime\\\\kernel-e054219b-8211-4cb5-8d66-e245a90fd6e7.json'"
      ]
     },
     "execution_count": 1,
     "metadata": {},
     "output_type": "execute_result"
    }
   ],
   "source": [
    "import sys\n",
    "import os\n",
    "import shutil\n",
    "\n",
    "if len(sys.argv)<3:\n",
    "  print(\"input length fault\")\n",
    "  os.system('pause')   \n",
    "  sys.exit()\n",
    "\n",
    "inputfile = sys.argv[1]\n",
    "newfile = sys.argv[2]\n",
    "\n",
    "userinput = input(f\"{inputfile} input text : \")\n",
    "f =open(inputfile,'w')\n",
    "f.write(userinput)\n",
    "\n",
    "f.close()\n",
    "\n",
    "shutil.copyfile(inputfile,newfile)"
   ]
  },
  {
   "cell_type": "code",
   "execution_count": null,
   "id": "c8d533ac",
   "metadata": {},
   "outputs": [],
   "source": [
    "import sys\n",
    "import os\n",
    "\n",
    "if len(sys.argv)<2:\n",
    "  print(\"input length fault\")\n",
    "  os.system('pause')   \n",
    "  sys.exit()\n",
    "\n",
    "inputfile = sys.argv[1]\n",
    "userinput = input(\"inputfile text : \")\n",
    "f=open(inputfile,'w')\n",
    "f.write(userinput)\n",
    "f.close()\n",
    "\n",
    "f=open(inputfile,'r')\n",
    "lines = f.readlines()\n",
    "f.close()\n",
    "\n",
    "wc=0\n",
    "lc=len(lines)\n",
    "\n",
    "for l in lines:\n",
    "  words = l.split()\n",
    "  wc+=len(words)\n",
    "  \n",
    "print(f\"line count : {lc}, word count : {wc}\")"
   ]
  },
  {
   "cell_type": "code",
   "execution_count": 3,
   "id": "9860e660",
   "metadata": {},
   "outputs": [
    {
     "name": "stdout",
     "output_type": "stream",
     "text": [
      "a : 4\n",
      "b : 0\n",
      " \n",
      "1. sum\n",
      "2. sub\n",
      "3. mul\n",
      "4. div\n",
      "4\n",
      "division by zero\n"
     ]
    }
   ],
   "source": [
    "import sys\n",
    "import os\n",
    "\n",
    "class Calc:\n",
    "    def sum(self,a,b):\n",
    "        result = a+b\n",
    "        print(f\"{a} + {b} = {result}\")\n",
    "    def sub(self,a,b):\n",
    "        result =a-b\n",
    "        print(f\"{a} - {b} = {result}\")\n",
    "    def mul(self,a,b):\n",
    "        result =a*b\n",
    "        print(f\"{a} * {b} = {result}\")\n",
    "    def div(self,a,b):\n",
    "        try:\n",
    "            result =a/b\n",
    "            print(f\"{a} / {b} = {result}\")\n",
    "        except ZeroDivisionError as e:\n",
    "            print(e)\n",
    "\n",
    "\n",
    "calc = Calc()\n",
    "a = input(\"a : \")\n",
    "b = input(\"b : \")\n",
    "\n",
    "a=int(a)\n",
    "b =int(b)\n",
    "i = input(\"\"\" \n",
    "1. sum\n",
    "2. sub\n",
    "3. mul\n",
    "4. div\n",
    "\"\"\")\n",
    "\n",
    "if i=='1':\n",
    "    calc.sum(a,b)\n",
    "elif i=='2':\n",
    "    calc.sub(a,b)\n",
    "elif i=='3':\n",
    "    calc.mul(a,b)\n",
    "elif i=='4':\n",
    "    calc.div(a,b)\n",
    "else:\n",
    "    print(f\"wrong input {i}\")\n",
    "    os.system('pause')   \n",
    "    sys.exit()"
   ]
  },
  {
   "cell_type": "code",
   "execution_count": 4,
   "id": "5cac81f5",
   "metadata": {},
   "outputs": [
    {
     "name": "stdout",
     "output_type": "stream",
     "text": [
      "input : 1 + 2 * 3 - 4 / 5\n",
      "1+2*3-4/5=1.0\n"
     ]
    }
   ],
   "source": [
    "import sys\n",
    "import os\n",
    "\n",
    "class Stack:\n",
    "    top =[]\n",
    "    stackname =\"\"\n",
    "    def __init__(self,name):\n",
    "        self.top=[]\n",
    "        self.name = name\n",
    "    def push(self,item):\n",
    "        self.top.append(item)\n",
    "    def pop(self):\n",
    "        if len(self.top)>0:\n",
    "            return self.top.pop(-1)\n",
    "        else:\n",
    "            print(f\"{self.stackname} is empty\")\n",
    "            os.system('pause')   \n",
    "            sys.exit()\n",
    "\n",
    "def calc(a,b,o):\n",
    "    if(o == '+'):\n",
    "        return a+b\n",
    "    elif(o == '-'):\n",
    "        return a-b\n",
    "    elif(o == '*'):\n",
    "        return a*b\n",
    "    elif(o == '/'):\n",
    "        try:\n",
    "            return a/b\n",
    "        except ZeroDivisionError:\n",
    "            return 'null'\n",
    "    else:\n",
    "        return 'null'\n",
    "\n",
    "nst = Stack(\"number stack\") #number stack\n",
    "ost = Stack(\"operator stack\") #operator stack1+\n",
    "\n",
    "userinput = input(\"input : \")\n",
    "items = userinput.split()\n",
    "nums = items[0::2]\n",
    "opers = items[1::2]\n",
    "\n",
    "calcs=\"\"\n",
    "l = len(opers)\n",
    "\n",
    "numc = 1\n",
    "nst.push(int(nums[0]))\n",
    "for i in range(l):\n",
    "    \n",
    "    nst.push(int(nums[i+1]))\n",
    "    ost.push(opers[i])\n",
    "    numc+=1\n",
    "\n",
    "    if(numc == 2):\n",
    "        a = nst.pop()\n",
    "        b = nst.pop()\n",
    "        o = ost.pop()\n",
    "        cal = calc(b,a,o)\n",
    "        if cal == 'null':\n",
    "            print(\"wrong calculation\")\n",
    "            os.system('pause')   \n",
    "            sys.exit()\n",
    "        else:\n",
    "            nst.push(cal)\n",
    "            numc=1\n",
    "\n",
    "for i in range(l):\n",
    "    calcs+=nums[i]\n",
    "    calcs+=opers[i]\n",
    "\n",
    "calcs+=nums[l]\n",
    "calcs+='='\n",
    "calcs +=str(nst.pop())\n",
    "print(calcs)\n"
   ]
  },
  {
   "cell_type": "code",
   "execution_count": null,
   "id": "2099a47f",
   "metadata": {},
   "outputs": [],
   "source": []
  }
 ],
 "metadata": {
  "kernelspec": {
   "display_name": "Python 3",
   "language": "python",
   "name": "python3"
  },
  "language_info": {
   "codemirror_mode": {
    "name": "ipython",
    "version": 3
   },
   "file_extension": ".py",
   "mimetype": "text/x-python",
   "name": "python",
   "nbconvert_exporter": "python",
   "pygments_lexer": "ipython3",
   "version": "3.9.4"
  }
 },
 "nbformat": 4,
 "nbformat_minor": 5
}
