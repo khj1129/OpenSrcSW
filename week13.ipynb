{
 "cells": [
  {
   "cell_type": "code",
   "execution_count": null,
   "id": "04210072",
   "metadata": {},
   "outputs": [],
   "source": [
    "import csv\n",
    "import sys\n",
    "import matplotlib.pyplot as plt\n",
    "\n",
    "bm = '11'\n",
    "bd = '29'\n",
    "\n",
    "dir = sys.path[0]+'\\\\seoul.csv'\n",
    "f = open(dir,'r',encoding='cp949')\n",
    "data = csv.reader(f)\n",
    "next(data)\n",
    "\n",
    "month=[]\n",
    "resultmax = []\n",
    "resultmin = []\n",
    "\n",
    "for row in data:\n",
    "    if row[-1] != '' : \n",
    "        rsplit = row[0].split('-')\n",
    "        if rsplit[1] == bm and rsplit[2]== bd:\n",
    "            month.append(rsplit[0])\n",
    "            resultmax.append(float(row[-1]))\n",
    "            resultmin.append(float(row[-2]))\n",
    "\n",
    "plt.rc('font',family = 'Malgun Gothic')\n",
    "plt.title('내 생일 서울의 최고 기온과 최저 기온')\n",
    "plt.plot(month,resultmax,c='red',label='최고 기온')\n",
    "plt.plot(month,resultmin,c='skyblue',label='최저 기온')\n",
    "plt.legend()\n",
    "plt.show()"
   ]
  },
  {
   "cell_type": "code",
   "execution_count": null,
   "id": "1b665e74",
   "metadata": {},
   "outputs": [],
   "source": [
    "import csv\n",
    "import sys\n",
    "import matplotlib.pyplot as plt\n",
    "\n",
    "m1 = '01'\n",
    "m2 = '08'\n",
    "\n",
    "dir = sys.path[0]+'\\\\seoul.csv'\n",
    "f = open(dir,'r',encoding='cp949')\n",
    "data = csv.reader(f)\n",
    "next(data)\n",
    "\n",
    "resultmax1 = []\n",
    "resultmax2 = []\n",
    "\n",
    "for row in data:\n",
    "    if row[-1] != '' : \n",
    "        rsplit = row[0].split('-')\n",
    "        if rsplit[1] == m1:\n",
    "            resultmax1.append(float(row[-1]))\n",
    "        elif  rsplit[1]== m2:\n",
    "            resultmax2.append(float(row[-1]))\n",
    "\n",
    "plt.rc('font',family = 'Malgun Gothic')\n",
    "plt.title('서울 지역의 1월과 8월 최고 기온 데이터')\n",
    "plt.hist(resultmax1,bins=100,color='skyblue',label='1월')\n",
    "plt.hist(resultmax2,bins=100,color='red',label='8월')\n",
    "plt.legend()\n",
    "plt.show()"
   ]
  }
 ],
 "metadata": {
  "kernelspec": {
   "display_name": "Python 3",
   "language": "python",
   "name": "python3"
  },
  "language_info": {
   "codemirror_mode": {
    "name": "ipython",
    "version": 3
   },
   "file_extension": ".py",
   "mimetype": "text/x-python",
   "name": "python",
   "nbconvert_exporter": "python",
   "pygments_lexer": "ipython3",
   "version": "3.8.8"
  }
 },
 "nbformat": 4,
 "nbformat_minor": 5
}
