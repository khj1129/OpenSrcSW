{
 "cells": [
  {
   "cell_type": "code",
   "execution_count": 2,
   "id": "fce758ea",
   "metadata": {},
   "outputs": [
    {
     "name": "stdout",
     "output_type": "stream",
     "text": [
      "input x : 3\n",
      "output y : 45\n"
     ]
    }
   ],
   "source": [
    "s = input(\"input x : \")\n",
    "x = int(s)\n",
    "y= 3*x*x\n",
    "y += 5*x\n",
    "y+=3\n",
    "print(\"output y : %d\" %y)"
   ]
  },
  {
   "cell_type": "code",
   "execution_count": 3,
   "id": "4c0a1b96",
   "metadata": {},
   "outputs": [
    {
     "name": "stdout",
     "output_type": "stream",
     "text": [
      "input radius : 3\n",
      "round : 18.8\n",
      "area : 28.3\n"
     ]
    }
   ],
   "source": [
    "s = input(\"input radius : \")\n",
    "x = int(s)\n",
    "pi = 3.14\n",
    "r = 2*pi*x\n",
    "a = x*x*pi\n",
    "print(\"round : %.1f\" %r)\n",
    "print(\"area : %.1f\" %a)"
   ]
  },
  {
   "cell_type": "code",
   "execution_count": null,
   "id": "79d042eb",
   "metadata": {},
   "outputs": [],
   "source": []
  }
 ],
 "metadata": {
  "kernelspec": {
   "display_name": "Python 3",
   "language": "python",
   "name": "python3"
  },
  "language_info": {
   "codemirror_mode": {
    "name": "ipython",
    "version": 3
   },
   "file_extension": ".py",
   "mimetype": "text/x-python",
   "name": "python",
   "nbconvert_exporter": "python",
   "pygments_lexer": "ipython3",
   "version": "3.9.4"
  }
 },
 "nbformat": 4,
 "nbformat_minor": 5
}
