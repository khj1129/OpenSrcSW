{
 "cells": [
  {
   "cell_type": "code",
   "execution_count": null,
   "id": "73e239ea",
   "metadata": {},
   "outputs": [],
   "source": [
    "import csv\n",
    "import sys\n",
    "\n",
    "dir = sys.path[0]+'\\\\seoul.csv'\n",
    "f = open(dir,'r',encoding='cp949')\n",
    "data = csv.reader(f,delimiter=',')\n",
    "next(data)\n",
    "\n",
    "label=['일교차가 가장 큰 날','최저기온이 가장 낮은 날','최고기온이 가장 높은 날']\n",
    "maxvar =[-999,999,-999]\n",
    "maxdata =['']*3\n",
    "\n",
    "for row in data:\n",
    "    row[-1] = float(row[-1])\n",
    "    row[-2] = float(row[-2])\n",
    "    dailycross = row[-1]-row[-2]\n",
    "    if(maxvar[0]<dailycross):\n",
    "        maxdata[0]=row\n",
    "        maxvar[0] =dailycross\n",
    "    if(maxvar[1]>row[-2]):\n",
    "        maxdata[1]=row\n",
    "        maxvar[1] = row[-2]\n",
    "    if(maxvar[2]<row[-1]):\n",
    "        maxdata[2]=row\n",
    "        maxvar[2] = row[-1]\n",
    "f.close()\n",
    "\n",
    "for i in range(0,3):\n",
    "    print(label[i]+\"\\n\"+maxdata[i][0]+'('+str(maxvar[i])+')')"
   ]
  },
  {
   "cell_type": "code",
   "execution_count": null,
   "id": "bfd6685f",
   "metadata": {},
   "outputs": [],
   "source": [
    "import csv\n",
    "import sys\n",
    "\n",
    "dir = sys.path[0]+'\\\\subwayfee.csv'\n",
    "f = open(dir,'r',encoding='cp949')\n",
    "data = csv.reader(f,delimiter=',')\n",
    "next(data)\n",
    "\n",
    "label=['이용객이 가장 많은 역 순위','이용객이 가장 적은 역 순위']\n",
    "userlist=[]\n",
    "\n",
    "for row in data:\n",
    "    row[-1]=row[-1].replace(',','')\n",
    "    row[-1] = int(row[-1])\n",
    "    row[-2]=row[-2].replace(',','')\n",
    "    row[-2] = int(row[-2])\n",
    "    row[-3]=row[-3].replace(',','')\n",
    "    row[-3] = int(row[-3])\n",
    "    row[-4]=row[-4].replace(',','')\n",
    "    row[-4] = int(row[-4])\n",
    "    usercount=row[-1]+row[-2]+row[-3]+row[-4]\n",
    "    userlist+=[(row[3],usercount)]\n",
    "f.close()\n",
    "\n",
    "userlist.sort(key=lambda item : item[1])\n",
    "\n",
    "print(f\"\"\"이용객이 가장 많은 역 순위\n",
    "1. {userlist[-1][0]} ({userlist[-1][1]}) \n",
    "2. {userlist[-2][0]} ({userlist[-2][1]}) \n",
    "3. {userlist[-3][0]} ({userlist[-3][1]}) \n",
    "\n",
    "이용객이 가장 적은 역 순위\n",
    "1. {userlist[0][0]} ({userlist[0][1]}) \n",
    "2. {userlist[1][0]} ({userlist[1][1]}) \n",
    "3. {userlist[2][0]} ({userlist[2][1]}) \"\"\")\n"
   ]
  }
 ],
 "metadata": {
  "kernelspec": {
   "display_name": "Python 3",
   "language": "python",
   "name": "python3"
  },
  "language_info": {
   "codemirror_mode": {
    "name": "ipython",
    "version": 3
   },
   "file_extension": ".py",
   "mimetype": "text/x-python",
   "name": "python",
   "nbconvert_exporter": "python",
   "pygments_lexer": "ipython3",
   "version": "3.8.8"
  }
 },
 "nbformat": 4,
 "nbformat_minor": 5
}
