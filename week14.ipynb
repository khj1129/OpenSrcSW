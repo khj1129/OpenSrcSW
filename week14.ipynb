{
 "cells": [
  {
   "cell_type": "code",
   "execution_count": null,
   "id": "a4133f52",
   "metadata": {},
   "outputs": [],
   "source": [
    "import sys\n",
    "import pandas as pd\n",
    "import numpy as np\n",
    "import matplotlib.pyplot as plt\n",
    "\n",
    "m=5 #1121500000\n",
    "dir = sys.path[0]+'\\\\people.csv'\n",
    "df =pd.read_csv(dir,encoding='cp949')\n",
    "\n",
    "df2 = df.iloc[:,4:]\n",
    "df3 = df2.T\n",
    "df3 = df3.sub(df3[m],axis=0)\n",
    "df3 = df3 **2\n",
    "df3 = df3.T\n",
    "df3['ans'] = np.sum(df3,axis=1)\n",
    "\n",
    "ansl = df3['ans']\n",
    "ansl[m] = ansl[0]\n",
    "mini = pd.Series.idxmin(ansl)\n",
    "ansl[m] = ansl[0]=0\n",
    "maxi = pd.Series.idxmax(ansl)\n",
    "\n",
    "minlis = df2.iloc[mini,:]\n",
    "maxlis = df2.iloc[maxi,:]\n",
    "gwlis = df2.iloc[m,:]\n",
    "\n",
    "n = df2.shape[0]-1\n",
    "minstdev = round(np.sqrt(ansl[mini]/n),2)\n",
    "maxstdev = round(np.sqrt(ansl[maxi]/n),2)\n",
    "\n",
    "indexs = df.iloc[:,1]\n",
    "ages = df2.columns\n",
    "\n",
    "plt.rc('font',family='Malgun Gothic')\n",
    "plt.title('광진구와 가장 비슷한 인구 구조를 가진 지역')\n",
    "plt.plot(ages,maxlis,c='red',label=indexs[maxi]+f'(표준편차 : {maxstdev})')\n",
    "plt.plot(ages,minlis,c='skyblue',label=indexs[mini]+f'(표준편차 : {minstdev})')\n",
    "plt.plot(ages,gwlis,c='gray',label=indexs[m])\n",
    "plt.xticks(ages[::20])\n",
    "plt.legend()\n",
    "plt.show()"
   ]
  }
 ],
 "metadata": {
  "kernelspec": {
   "display_name": "Python 3",
   "language": "python",
   "name": "python3"
  },
  "language_info": {
   "codemirror_mode": {
    "name": "ipython",
    "version": 3
   },
   "file_extension": ".py",
   "mimetype": "text/x-python",
   "name": "python",
   "nbconvert_exporter": "python",
   "pygments_lexer": "ipython3",
   "version": "3.8.8"
  }
 },
 "nbformat": 4,
 "nbformat_minor": 5
}
