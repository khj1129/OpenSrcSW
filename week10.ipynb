{
 "cells": [
  {
   "cell_type": "code",
   "execution_count": 7,
   "id": "d0ad5cd1",
   "metadata": {},
   "outputs": [
    {
     "name": "stdout",
     "output_type": "stream",
     "text": [
      "numbers? 10 458 87 78\n",
      "Max = 458\n"
     ]
    }
   ],
   "source": [
    "str=input(\"Numbers? \")\n",
    "l = str.split()\n",
    "nl=[]\n",
    "for i in l:\n",
    "  nl+=[int(i)]\n",
    "\n",
    "nl.sort(reverse=True)\n",
    "print(\"Max = {}\".format(nl[0]))\n"
   ]
  },
  {
   "cell_type": "code",
   "execution_count": 10,
   "id": "d479e4da",
   "metadata": {},
   "outputs": [
    {
     "name": "stdout",
     "output_type": "stream",
     "text": [
      "input encrypt string : abc edf\n",
      "feg bcd\n",
      "input decrypt string : feg bcd\n",
      "abc edf\n"
     ]
    }
   ],
   "source": [
    "def Encrypt(str,isEncrypt=1):\n",
    "  l = str.split()\n",
    "  l = l[::-1]\n",
    "  nl = []\n",
    "  for i in l:\n",
    "    s=''\n",
    "    for j in i:\n",
    "      s +=chr(ord(j)+isEncrypt)\n",
    "    nl+=[s]\n",
    "  \n",
    "  s=nl[0]\n",
    "  for i in range(1,len(nl)):\n",
    "    s+=\" \"+nl[i]\n",
    "  return s\n",
    "\n",
    "str = input(\"input encrypt string : \")\n",
    "print(Encrypt(str))\n",
    "str2 = input(\"input decrypt string : \")\n",
    "print(Encrypt(str2,-1))"
   ]
  },
  {
   "cell_type": "code",
   "execution_count": 2,
   "id": "149074c6",
   "metadata": {},
   "outputs": [
    {
     "name": "stdout",
     "output_type": "stream",
     "text": [
      ">>input name and phone number\n",
      "1## name : a\n",
      "1## phone number : 1\n",
      "2## name : b\n",
      "2## phone number : 2\n",
      "3## name : c\n",
      "3## phone number : 3\n",
      "4## name : d\n",
      "4## phone number : 4\n",
      "5## name : e\n",
      "5## phone number : 5\n",
      "6## name : f\n",
      "6## phone number : 6\n",
      "7## name : g\n",
      "7## phone number : 7\n",
      "8## name : h\n",
      "8## phone number : 8\n",
      "9## name : i\n",
      "9## phone number : 9\n",
      "10## name : j\n",
      "10## phone number : 10\n",
      "\n",
      ">>Select Menu\n",
      "1. name \n",
      "2. phone number\n",
      "3. quit\n",
      "1\n",
      "input phone number : 10\n",
      "name is j\n",
      "\n",
      ">>Select Menu\n",
      "1. name \n",
      "2. phone number\n",
      "3. quit\n",
      "2\n",
      "input name : 7\n",
      "has no phone number\n",
      "\n",
      ">>Select Menu\n",
      "1. name \n",
      "2. phone number\n",
      "3. quit\n",
      "2\n",
      "input name : f\n",
      "f's phone number : 6\n",
      "\n",
      ">>Select Menu\n",
      "1. name \n",
      "2. phone number\n",
      "3. quit\n",
      "3\n",
      "end\n"
     ]
    }
   ],
   "source": [
    "l = {}\n",
    "\n",
    "def FindName():\n",
    "    s = input(\"input phone number : \")\n",
    "    m=\"\"\n",
    "    for n in l.keys():\n",
    "        if(l[n]==s):\n",
    "            m = n\n",
    "            print(f\"name is {m}\")\n",
    "            break\n",
    "    if(m==\"\"):\n",
    "        print(\"has no name\")   \n",
    "def FindNumber():\n",
    "    s = input(\"input name : \")\n",
    "    if(s in l):\n",
    "        print(f\"{s}'s phone number : {l[s]}\")\n",
    "    else:\n",
    "        print(\"has no phone number\")\n",
    "\n",
    "\n",
    "print(\">>input name and phone number\")\n",
    "\n",
    "for i in range(1,11):\n",
    "    name = input(f\"{i}## name : \")\n",
    "    num = input(f\"{i}## phone number : \")\n",
    "    l[name] = num\n",
    "\n",
    "while True:\n",
    "    i = input(\"\"\"\n",
    ">>Select Menu\n",
    "1. name \n",
    "2. phone number\n",
    "3. quit\\n\"\"\")\n",
    "\n",
    "    if(i=='1'):\n",
    "        FindName()\n",
    "    elif(i=='2'):\n",
    "        FindNumber()\n",
    "    elif(i=='3'):\n",
    "        print(\"end\")\n",
    "        break\n",
    "    else:\n",
    "        print(\"wrong input\")\n",
    "        break"
   ]
  },
  {
   "cell_type": "code",
   "execution_count": null,
   "id": "2d9e362c",
   "metadata": {},
   "outputs": [],
   "source": []
  }
 ],
 "metadata": {
  "kernelspec": {
   "display_name": "Python 3",
   "language": "python",
   "name": "python3"
  },
  "language_info": {
   "codemirror_mode": {
    "name": "ipython",
    "version": 3
   },
   "file_extension": ".py",
   "mimetype": "text/x-python",
   "name": "python",
   "nbconvert_exporter": "python",
   "pygments_lexer": "ipython3",
   "version": "3.9.4"
  }
 },
 "nbformat": 4,
 "nbformat_minor": 5
}
